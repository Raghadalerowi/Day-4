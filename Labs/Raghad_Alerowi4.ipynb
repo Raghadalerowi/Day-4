{
 "cells": [
  {
   "cell_type": "markdown",
   "metadata": {
    "id": "E9Y5ss1ZYj3r"
   },
   "source": [
    "# Python_Lab_2.2\n"
   ]
  },
  {
   "cell_type": "markdown",
   "metadata": {
    "id": "Q1kAqc72Yj3t"
   },
   "source": [
    "### Task 1\n",
    "1. Write a program that prompts the user to enter two numbers and prints their division. Handle cases where the user enters non-numeric values or attempts to divide by zero using a try-except block.\n"
   ]
  },
  {
   "cell_type": "code",
   "execution_count": 2,
   "metadata": {
    "id": "H-xyoRTVYj3t"
   },
   "outputs": [
    {
     "name": "stdin",
     "output_type": "stream",
     "text": [
      "Enter the first number:  23.9\n",
      "Enter the second number:  23.99\n"
     ]
    },
    {
     "name": "stdout",
     "output_type": "stream",
     "text": [
      "The result of 23.9 divided by 23.99 is: 0.9962484368486869\n"
     ]
    }
   ],
   "source": [
    "def divide_numbers():\n",
    "    try:     \n",
    "        num1 = float(input(\"Enter the first number: \"))\n",
    "        num2 = float(input(\"Enter the second number: \"))    \n",
    "   \n",
    "        result = num1 / num2\n",
    "        print(f\"The result of {num1} divided by {num2} is: {result}\")\n",
    "        \n",
    "    except ValueError:\n",
    "        print(\"Invalid input! Please enter numeric values.\")\n",
    "    except ZeroDivisionError:\n",
    "        print(\"Error! Division by zero is not allowed.\")\n",
    "\n",
    "divide_numbers()\n"
   ]
  },
  {
   "cell_type": "markdown",
   "metadata": {
    "id": "CPWcDSC_Yj3u"
   },
   "source": [
    "### Task 2\n",
    "- Use \"Random\" library to do the following:\n",
    "    1. Create a list of random numbers using list comprehension.\n",
    "    2. Create a list of squares of the even numbers from random numbers using list comprehension.\n",
    "    3. Create a list of tuples (number, square) for random numbers using list comprehension."
   ]
  },
  {
   "cell_type": "code",
   "execution_count": 1,
   "metadata": {
    "id": "Yfq-i6CeYj3u"
   },
   "outputs": [
    {
     "name": "stdout",
     "output_type": "stream",
     "text": [
      "Random Numbers: [33, 44, 68, 24, 71, 66, 65, 43, 13, 71]\n",
      "Squares of Even Numbers: [1936, 4624, 576, 4356]\n",
      "List of Tuples (Number, Square): [(33, 1089), (44, 1936), (68, 4624), (24, 576), (71, 5041), (66, 4356), (65, 4225), (43, 1849), (13, 169), (71, 5041)]\n"
     ]
    }
   ],
   "source": [
    "import random\n",
    "\n",
    "random_numbers = [random.randint(1, 100) for _ in range(10)]\n",
    "print(\"Random Numbers:\", random_numbers)\n",
    "\n",
    "even_squares = [num ** 2 for num in random_numbers if num % 2 == 0]\n",
    "print(\"Squares of Even Numbers:\", even_squares)\n",
    "\n",
    "number_square_tuples = [(num, num ** 2) for num in random_numbers]\n",
    "print(\"List of Tuples (Number, Square):\", number_square_tuples)\n"
   ]
  },
  {
   "cell_type": "markdown",
   "metadata": {
    "id": "jYdOq46NYj3u"
   },
   "source": [
    "### Task 3\n",
    "- Create a dictionary where the keys are numbers from 1 to 5 and the values are list of their squares and cubes.\n",
    "\n",
    "  - **hint**: use dictionary of list comprehension.\n",
    "\n",
    "- Create a dictionary from two lists (one with keys and one with values) using dictionary comprehension.\n",
    "\n"
   ]
  },
  {
   "cell_type": "code",
   "execution_count": 3,
   "metadata": {
    "id": "IEnsiNmCYj3u"
   },
   "outputs": [
    {
     "name": "stdout",
     "output_type": "stream",
     "text": [
      "Squares and Cubes Dictionary:\n",
      "{1: [1, 1], 2: [4, 8], 3: [9, 27], 4: [16, 64], 5: [25, 125]}\n",
      "\n",
      "Combined Dictionary from Two Lists:\n",
      "{'a': 1, 'b': 2, 'c': 3}\n"
     ]
    }
   ],
   "source": [
    "squares_and_cubes = {x: [x**2, x**3] for x in range(1, 6)}\n",
    "\n",
    "print(\"Squares and Cubes Dictionary:\")\n",
    "print(squares_and_cubes)\n",
    "\n",
    "\n",
    "keys = ['a', 'b', 'c']\n",
    "values = [1, 2, 3]\n",
    "\n",
    "combined_dict = {keys[i]: values[i] for i in range(len(keys))}\n",
    "\n",
    "print(\"\\nCombined Dictionary from Two Lists:\")\n",
    "print(combined_dict)\n",
    "\n"
   ]
  },
  {
   "cell_type": "markdown",
   "metadata": {
    "id": "6T9TCQ8SYj3v"
   },
   "source": [
    "### Task 4\n",
    "- Given a dictionary where keys are student names and values are lists of their scores, write a function that updates the scores of students who have achieved a perfect score (100) by adding a bonus of 5 points to each score. Use dictionary comprehension to achieve this.\n",
    "\n",
    "    - Implement the function add_bonus_to_perfect_scores(student_scores) that adds a bonus of 5 points to each score of students who have achieved a perfect score (100)."
   ]
  },
  {
   "cell_type": "code",
   "execution_count": 5,
   "metadata": {
    "id": "T3R_VsQpYj3v"
   },
   "outputs": [
    {
     "name": "stdout",
     "output_type": "stream",
     "text": [
      "Original Scores:\n",
      "{'Raghad': [95, 100, 88], 'Rooa': [100, 90, 85], 'Ahmed': [80, 70, 60], 'Ayman': [100, 100, 100]}\n",
      "\n",
      "Updated Scores:\n",
      "{'Raghad': [95, 105, 88], 'Rooa': [105, 90, 85], 'Ahmed': [80, 70, 60], 'Ayman': [105, 105, 105]}\n"
     ]
    }
   ],
   "source": [
    "def add_bonus_to_perfect_scores(student_scores):\n",
    "    updated_scores = {\n",
    "        student: [score + 5 if score == 100 else score for score in scores]\n",
    "        for student, scores in student_scores.items()\n",
    "    }\n",
    "    return updated_scores\n",
    "\n",
    "student_scores = {\n",
    "    \"Raghad\": [95, 100, 88],\n",
    "    \"Rooa\": [100, 90, 85],\n",
    "    \"Ahmed\": [80, 70, 60],\n",
    "    \"Ayman\": [100, 100, 100]\n",
    "}\n",
    "\n",
    "print(\"Original Scores:\")\n",
    "print(student_scores)\n",
    "\n",
    "updated_scores = add_bonus_to_perfect_scores(student_scores)\n",
    "\n",
    "print(\"\\nUpdated Scores:\")\n",
    "print(updated_scores)\n"
   ]
  },
  {
   "cell_type": "markdown",
   "metadata": {
    "id": "rJkOEFAwYj3v"
   },
   "source": []
  }
 ],
 "metadata": {
  "colab": {
   "provenance": []
  },
  "kernelspec": {
   "display_name": "Python 3 (ipykernel)",
   "language": "python",
   "name": "python3"
  },
  "language_info": {
   "codemirror_mode": {
    "name": "ipython",
    "version": 3
   },
   "file_extension": ".py",
   "mimetype": "text/x-python",
   "name": "python",
   "nbconvert_exporter": "python",
   "pygments_lexer": "ipython3",
   "version": "3.12.4"
  }
 },
 "nbformat": 4,
 "nbformat_minor": 4
}
