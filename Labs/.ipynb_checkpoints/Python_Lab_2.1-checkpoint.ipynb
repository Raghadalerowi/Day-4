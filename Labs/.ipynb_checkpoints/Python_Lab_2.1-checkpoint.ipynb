{
 "cells": [
  {
   "cell_type": "markdown",
   "metadata": {
    "id": "x7F-mxeubDUG"
   },
   "source": [
    "# Python_Lab_2.1\n"
   ]
  },
  {
   "cell_type": "markdown",
   "metadata": {
    "id": "14c6Hn1BbDUH"
   },
   "source": [
    "### Task 1\n",
    "1. Write a function named is_prime that takes a number as a parameter and returns True if the number is prime and False otherwise. Print whether the number 29 is prime."
   ]
  },
  {
   "cell_type": "code",
   "execution_count": 1,
   "metadata": {
    "id": "5e_MZEN0bDUI"
   },
   "outputs": [
    {
     "name": "stdout",
     "output_type": "stream",
     "text": [
      "29 is prime.\n"
     ]
    }
   ],
   "source": [
    "def is_prime(num):\n",
    "    if num <= 1:\n",
    "        return False\n",
    "    for i in range(2, int(num**0.5) + 1):\n",
    "        if num % i == 0:\n",
    "            return False\n",
    "    return True\n",
    "\n",
    "# Test \n",
    "number = 29\n",
    "if is_prime(number):\n",
    "    print(f\"{number} is prime.\")\n",
    "else:\n",
    "    print(f\"{number} is not prime.\")\n"
   ]
  },
  {
   "cell_type": "markdown",
   "metadata": {
    "id": "2zKG8ZcybDUI"
   },
   "source": [
    "### Task 2\n",
    "1. Create a list of 10 numbers and sort them in descending order using the sort() function.\n",
    "2. Use the len() function to print the length of the sorted list.\n",
    "3. Use the zip() function to combine three lists (names, ages, and cities) into a list of tuples.\n",
    "4. Use the range() function to create a list of even numbers from 2 to 20 and print the list."
   ]
  },
  {
   "cell_type": "code",
   "execution_count": 2,
   "metadata": {
    "id": "yyoe__M_bDUI"
   },
   "outputs": [
    {
     "name": "stdout",
     "output_type": "stream",
     "text": [
      "1sol:\n",
      "Sorted Numbers (Descending): [45, 30, 23, 17, 12, 9, 8, 5, 3, 2]\n",
      "2sol:\n",
      "Length of the sorted list: 10\n",
      "3sol:\n",
      "Combined List of Tuples (Names, Ages, Cities): [('Alice', 28, 'New York'), ('Bob', 25, 'Los Angeles'), ('Charlie', 30, 'Chicago')]\n",
      "4sol:\n",
      "Even Numbers from 2 to 20: [2, 4, 6, 8, 10, 12, 14, 16, 18, 20]\n"
     ]
    }
   ],
   "source": [
    "print(\"1sol:\") \n",
    "numbers = [12, 5, 8, 23, 2, 17, 45, 30, 3, 9]\n",
    "numbers.sort(reverse=True)  \n",
    "print(\"Sorted Numbers (Descending):\", numbers)\n",
    "\n",
    "print(\"2sol:\")\n",
    "length_of_list = len(numbers)\n",
    "print(\"Length of the sorted list:\", length_of_list)\n",
    "\n",
    "print(\"3sol:\")\n",
    "names = [\"Alice\", \"Bob\", \"Charlie\"]\n",
    "ages = [28, 25, 30]\n",
    "cities = [\"New York\", \"Los Angeles\", \"Chicago\"]\n",
    "combined = list(zip(names, ages, cities))\n",
    "print(\"Combined List of Tuples (Names, Ages, Cities):\", combined)\n",
    "\n",
    "print(\"4sol:\")\n",
    "even_numbers = list(range(2, 21, 2))  \n",
    "print(\"Even Numbers from 2 to 20:\", even_numbers)\n"
   ]
  },
  {
   "cell_type": "markdown",
   "metadata": {
    "id": "aStW5p7AbDUI"
   },
   "source": [
    "### Task 3\n",
    "Build a phone book program that receives the phone number, and returns the name of the owner.\n",
    "You can follow the table below:\n",
    "\n",
    "| Name     | Number     |\n",
    "| -------- | ---------- |\n",
    "| Amal     | 1111111111 |\n",
    "| Mohammed | 2222222222 |\n",
    "| Khadijah | 3333333333 |\n",
    "| Abdullah | 4444444444 |\n",
    "| Rawan    | 5555555555 |\n",
    "| Faisal   | 6666666666 |\n",
    "| Layla    | 7777777777 |\n",
    "\n",
    "- If the number exists, print the owner. Otherwise, print \"Sorry, the number is not found\".\n",
    "- If the number is less or more than 10 numbers, print \"This is invalid number\".\n",
    "- If the number contains letters or symbols, print \"This is invalid number\".\n"
   ]
  },
  {
   "cell_type": "code",
   "execution_count": 6,
   "metadata": {
    "id": "kvXmjUe-bDUJ"
   },
   "outputs": [
    {
     "name": "stdin",
     "output_type": "stream",
     "text": [
      "Enter the phone number:  1111111111\n"
     ]
    },
    {
     "name": "stdout",
     "output_type": "stream",
     "text": [
      "The owner of the number 1111111111 is Amal.\n"
     ]
    }
   ],
   "source": [
    "\n",
    "phone_book = {\n",
    "    \"Amal\": \"1111111111\",\n",
    "    \"Mohammed\": \"2222222222\",\n",
    "    \"Khadijah\": \"3333333333\",\n",
    "    \"Abdullah\": \"4444444444\",\n",
    "    \"Rawan\": \"5555555555\",\n",
    "    \"Faisal\": \"6666666666\",\n",
    "    \"Layla\": \"7777777777\"\n",
    "}\n",
    "\n",
    "def find_owner(phone_number):\n",
    "    if len(phone_number) != 10 or not phone_number.isdigit():\n",
    "        return \"This is an invalid number.\"\n",
    "    \n",
    "    for name, number in phone_book.items():\n",
    "        if number == phone_number:\n",
    "            return f\"The owner of the number {phone_number} is {name}.\"\n",
    "    \n",
    "    return \"Sorry, the number is not found.\"\n",
    "\n",
    "user_input = input(\"Enter the phone number: \")\n",
    "result = find_owner(user_input)\n",
    "print(result)\n"
   ]
  },
  {
   "cell_type": "markdown",
   "metadata": {
    "id": "exLHQ28nbDUJ"
   },
   "source": [
    "### Task 4\n",
    "- Given the following list : [5, 4, 17, 19, 30, 2, 7, 10, 45]\n",
    "    1. Use a lambda function to filter out only the odd numbers.\n",
    "    2. Print the new list of odd numbers."
   ]
  },
  {
   "cell_type": "code",
   "execution_count": null,
   "metadata": {
    "id": "64SUsh1cbDUJ"
   },
   "outputs": [],
   "source": [
    "numbers = [5, 4, 17, 19, 30, 2, 7, 10, 45]\n",
    "odd_numbers = list(filter(lambda x: x % 2 != 0, numbers))\n",
    "print(\"Odd Numbers:\", odd_numbers)\n"
   ]
  }
 ],
 "metadata": {
  "colab": {
   "provenance": []
  },
  "kernelspec": {
   "display_name": "Python 3 (ipykernel)",
   "language": "python",
   "name": "python3"
  },
  "language_info": {
   "codemirror_mode": {
    "name": "ipython",
    "version": 3
   },
   "file_extension": ".py",
   "mimetype": "text/x-python",
   "name": "python",
   "nbconvert_exporter": "python",
   "pygments_lexer": "ipython3",
   "version": "3.12.4"
  }
 },
 "nbformat": 4,
 "nbformat_minor": 4
}
